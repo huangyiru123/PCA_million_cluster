{
 "cells": [
  {
   "cell_type": "code",
   "execution_count": 1,
   "id": "668e542d-a71f-4e23-87a9-2db95f27f786",
   "metadata": {},
   "outputs": [],
   "source": [
    "import logging\n",
    "import gensim\n",
    "from gensim.models import word2vec, KeyedVectors\n",
    "import pandas as pd\n",
    "import nltk\n",
    "import matplotlib.pyplot as plt\n",
    "import seaborn as sns\n",
    "from sklearn.decomposition import PCA\n",
    "import pkuseg\n",
    "import numpy as np\n",
    "from nltk.tokenize import MWETokenizer\n",
    "import itertools\n",
    "from gensim.models import KeyedVectors\n",
    "from gensim.models import Word2Vec\n",
    "from gensim.models.word2vec import LineSentence\n",
    "from sklearn.manifold import TSNE"
   ]
  },
  {
   "cell_type": "code",
   "execution_count": 2,
   "id": "a10c73d4-0a4c-4238-a9df-43df72aded33",
   "metadata": {},
   "outputs": [],
   "source": [
    "model = KeyedVectors.load_word2vec_format('清洗后文本.txt')"
   ]
  },
  {
   "cell_type": "code",
   "execution_count": 32,
   "id": "4dd7ec74-bf26-4191-8b1a-4b49f7af8fbd",
   "metadata": {},
   "outputs": [
    {
     "name": "stdout",
     "output_type": "stream",
     "text": [
      "[[ 1.3803874   0.2852572 ]\n",
      " [ 1.4401556   2.3309312 ]\n",
      " [ 2.1266725  -1.2732004 ]\n",
      " [ 1.6004866  -0.95752066]\n",
      " [-1.4773184   0.12905161]\n",
      " [-1.3561082  -0.13599795]\n",
      " [-1.2483084   0.12430943]\n",
      " [-1.168733   -0.01073013]\n",
      " [-1.2972337  -0.49210027]]\n",
      "[0.4492921 0.1904047]\n",
      "[2.4615417 1.0431724]\n"
     ]
    },
    {
     "data": {
      "image/png": "[encoded data removed]",
      "text/plain": [
       "<Figure size 600x400 with 1 Axes>"
      ]
     },
     "metadata": {
      "needs_background": "light"
     },
     "output_type": "display_data"
    }
   ],
   "source": [
    "X = np.array(model['Na','Li','Rb','Cs','Cu','Mn','Fe','Zn','Cr'])\n",
    "pca = PCA(n_components=2) #选择需要降成的维度\n",
    "\n",
    "Y = pca.fit_transform(X) #将100维词向量降维成2维\n",
    "\n",
    "print(Y)\n",
    "\n",
    "print(pca.explained_variance_ratio_)\n",
    "print(pca.explained_variance_)\n",
    "\n",
    "txt = ['Na','Rb','Li','Cs','Cu','Mn','Fe','Zn','Cr'] #图中每个点的标注\n",
    "\n",
    "x = Y[:,0] #图中每个点的横坐标\n",
    "\n",
    "y = Y[:,1] #图中每个点的纵坐标\n",
    "\n",
    "# plt.scatter(x, y)\n",
    "# for i in range(len(x)):\n",
    "#     plt.annotate(txt[i], xy = (x[i], y[i]), xytext = (x[i]+0.001, y[i]+0.001)) #使用matplotlib在图中画出每个点\n",
    "\n",
    "# plt.show()\n",
    "plt.figure(figsize=(6, 4), dpi=100) # 设置图片大小和分辨率\n",
    "plt.rcParams['font.size'] = 12 # 增大字体大小\n",
    "plt.rcParams['font.family'] = 'Times New Roman' # 设置字体为Times New Roman\n",
    "\n",
    "\n",
    "plt.scatter(x, y)\n",
    "for i in range(len(x)):\n",
    "    plt.annotate(txt[i], xy=(x[i], y[i]), xytext=(x[i] + 0.001, y[i] + 0.001))\n",
    "plt.savefig('PCA_cluster.png', dpi=300)\n",
    "plt.show()"
   ]
  },
  {
   "cell_type": "code",
   "execution_count": null,
   "id": "8f2322cd-338e-4cdd-a8af-6a1ca39c4e53",
   "metadata": {},
   "outputs": [],
   "source": []
  },
  {
   "cell_type": "code",
   "execution_count": null,
   "id": "ce977396-1749-44a5-8c18-44c2f3a77a4c",
   "metadata": {},
   "outputs": [],
   "source": []
  }
 ],
 "metadata": {
  "kernelspec": {
   "display_name": "nlpenv",
   "language": "python",
   "name": "test"
  },
  "language_info": {
   "codemirror_mode": {
    "name": "ipython",
    "version": 3
   },
   "file_extension": ".py",
   "mimetype": "text/x-python",
   "name": "python",
   "nbconvert_exporter": "python",
   "pygments_lexer": "ipython3",
   "version": "3.6.13"
  },
  "toc-autonumbering": true,
  "toc-showcode": false
 },
 "nbformat": 4,
 "nbformat_minor": 5
}
